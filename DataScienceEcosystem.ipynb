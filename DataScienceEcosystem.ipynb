{
 "cells": [
  {
   "cell_type": "markdown",
   "id": "3e2ed853-6382-4830-90a5-9ec86f4e7dc1",
   "metadata": {},
   "source": [
    "# Data Science Tools and Ecosystem"
   ]
  },
  {
   "cell_type": "markdown",
   "id": "63ae208a-4691-41e3-ac3f-573228bcbce5",
   "metadata": {
    "tags": []
   },
   "source": [
    "## In this notebook, Data Science Tools and Ecosystem are summarized.\n"
   ]
  },
  {
   "cell_type": "markdown",
   "id": "6f6bf40d-e843-453c-8524-477dc5647c5f",
   "metadata": {
    "tags": []
   },
   "source": [
    "## Some of the popular languages that Data Scientists use are:\n",
    "1. Python \n",
    "2. SQL \n",
    "3. R"
   ]
  },
  {
   "cell_type": "markdown",
   "id": "87fb37c4-c5fc-46a5-ad8d-7c01959cb0de",
   "metadata": {},
   "source": [
    "## Some of the commonly used libraries used by Data Scientists include:\n",
    "1. NumPy\n",
    "2. Matplotlib\n",
    "3. Pandas\n"
   ]
  },
  {
   "cell_type": "code",
   "execution_count": 4,
   "id": "7c1726f4-789b-4d32-b60a-27feeffa93ab",
   "metadata": {
    "tags": []
   },
   "outputs": [
    {
     "data": {
      "text/plain": [
       "17"
      ]
     },
     "execution_count": 4,
     "metadata": {},
     "output_type": "execute_result"
    }
   ],
   "source": [
    "# This a simple arithmetic expression to mutiply then add integers\n",
    "(3*4)+5"
   ]
  },
  {
   "cell_type": "code",
   "execution_count": 5,
   "id": "e2e70766-3a39-426d-ac53-f02b9d34d108",
   "metadata": {
    "tags": []
   },
   "outputs": [
    {
     "data": {
      "text/plain": [
       "3.3333333333333335"
      ]
     },
     "execution_count": 5,
     "metadata": {},
     "output_type": "execute_result"
    }
   ],
   "source": [
    "# This will convert 200 minutes to hours by diving by 60\n",
    "200/60\n"
   ]
  },
  {
   "cell_type": "markdown",
   "id": "4c953116-3155-45a2-a9c6-477497695299",
   "metadata": {},
   "source": [
    "**Objectives:**\n",
    "\n",
    "- List popular languages for Data Science\n",
    "- Understand data manipulation processes\n",
    "- Learned basics of Jupyter notbook\n",
    "- Understand processes involved in data science\n",
    "- Explore data preprocessing techniques"
   ]
  },
  {
   "cell_type": "markdown",
   "id": "3a160067-af73-43c9-8513-979ce39e3b4d",
   "metadata": {
    "tags": []
   },
   "source": [
    "## Author\n",
    "Cam "
   ]
  }
 ],
 "metadata": {
  "kernelspec": {
   "display_name": "Python",
   "language": "python",
   "name": "conda-env-python-py"
  },
  "language_info": {
   "codemirror_mode": {
    "name": "ipython",
    "version": 3
   },
   "file_extension": ".py",
   "mimetype": "text/x-python",
   "name": "python",
   "nbconvert_exporter": "python",
   "pygments_lexer": "ipython3",
   "version": "3.7.12"
  }
 },
 "nbformat": 4,
 "nbformat_minor": 5
}
